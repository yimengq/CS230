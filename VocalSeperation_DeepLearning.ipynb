{
 "cells": [
  {
   "cell_type": "code",
   "execution_count": 23,
   "id": "87d2b8a6",
   "metadata": {},
   "outputs": [],
   "source": [
    "import numpy as np\n",
    "import matplotlib.pyplot as plt\n",
    "from IPython.display import Audio\n",
    "import librosa\n",
    "import librosa.display\n",
    "from scipy.io import wavfile\n",
    "from pydub import AudioSegment\n",
    "from scipy.io.wavfile import write"
   ]
  },
  {
   "cell_type": "code",
   "execution_count": 52,
   "id": "4400a6e1",
   "metadata": {},
   "outputs": [],
   "source": [
    "def mp3_to_wav (folder,Song):\n",
    "    sound = AudioSegment.from_mp3(Singer+\"/\"+Song+\"/\"+Song+\".mp3\")\n",
    "    sound.export(Singer+\"/\"+Song+\"/\"+Song+\".wav\", format=\"wav\")"
   ]
  },
  {
   "cell_type": "code",
   "execution_count": 55,
   "id": "04815923",
   "metadata": {},
   "outputs": [],
   "source": [
    "def DataSegamentation(Singer,Song,dt=6,mode=\"_Instruments\"):\n",
    "    sr, data = wavfile.read(Singer+\"/\"+Song+\"/\"+Song+mode+\".wav\")\n",
    "    ds = dt*sr;\n",
    "    s_f = int(np.floor(np.shape(data)[0]/ds));\n",
    "    for i in range(s_f):\n",
    "        idx1 = int(i*ds)\n",
    "        idx2 = int((i+1)*ds-1)\n",
    "        t1 = float(idx1/sr)\n",
    "        t2 = float(idx2/sr)\n",
    "        filename = Singer+\"/\"+Song+\"/\"+Song+mode+\"/\"+Song+mode+\"From\"+str(round(t1,3))+\"To\"+str(round(t2,3))+\".wav\";\n",
    "        write(filename, sr, data[idx1:idx2].astype(np.int16))"
   ]
  },
  {
   "cell_type": "code",
   "execution_count": 57,
   "id": "10dda6d9",
   "metadata": {},
   "outputs": [],
   "source": [
    "Singer = \"./MichaelBuble\"\n",
    "Song = \"HaveYourselfAMerryLittleChristmas\"\n",
    "# mp3_to_wav(folder,file)\n",
    "DataSegamentation(Singer,Song,dt=6,mode=\"_Instruments\")\n",
    "DataSegamentation(Singer,Song,dt=6,mode=\"_Vocals\")"
   ]
  },
  {
   "cell_type": "code",
   "execution_count": 60,
   "id": "be10cf86",
   "metadata": {},
   "outputs": [],
   "source": [
    "Singer = \"./MichaelBuble\"\n",
    "Song = \"Home\"\n",
    "# mp3_to_wav(Singer,Song)\n",
    "DataSegamentation(Singer,Song,dt=6,mode=\"_Instruments\")\n",
    "DataSegamentation(Singer,Song,dt=6,mode=\"_Vocals\")"
   ]
  },
  {
   "cell_type": "code",
   "execution_count": 64,
   "id": "dff35bde",
   "metadata": {},
   "outputs": [],
   "source": [
    "Singer = \"./MichaelBuble\"\n",
    "Song = \"FoeverNow\"\n",
    "# mp3_to_wav(Singer,Song)\n",
    "DataSegamentation(Singer,Song,dt=6,mode=\"_Instruments\")\n",
    "DataSegamentation(Singer,Song,dt=6,mode=\"_Vocals\")"
   ]
  },
  {
   "cell_type": "code",
   "execution_count": 68,
   "id": "8cab3eb1",
   "metadata": {},
   "outputs": [],
   "source": [
    "Singer = \"./ArianaGrande\"\n",
    "Song = \"OneLastTime\"\n",
    "# mp3_to_wav(Singer,Song)\n",
    "DataSegamentation(Singer,Song,dt=6,mode=\"_Instruments\")\n",
    "DataSegamentation(Singer,Song,dt=6,mode=\"_Vocals\")"
   ]
  },
  {
   "cell_type": "code",
   "execution_count": 69,
   "id": "88fda074",
   "metadata": {},
   "outputs": [],
   "source": [
    "Singer = \"./ArianaGrande\"\n",
    "Song = \"7Rings\"\n",
    "# mp3_to_wav(Singer,Song)\n",
    "DataSegamentation(Singer,Song,dt=6,mode=\"_Instruments\")\n",
    "DataSegamentation(Singer,Song,dt=6,mode=\"_Vocals\")"
   ]
  },
  {
   "cell_type": "code",
   "execution_count": 71,
   "id": "81cd7f69",
   "metadata": {},
   "outputs": [],
   "source": [
    "Singer = \"./ArianaGrande\"\n",
    "Song = \"LastChristmas\"\n",
    "# mp3_to_wav(Singer,Song)\n",
    "DataSegamentation(Singer,Song,dt=6,mode=\"_Instruments\")\n",
    "DataSegamentation(Singer,Song,dt=6,mode=\"_Vocals\")"
   ]
  },
  {
   "cell_type": "code",
   "execution_count": null,
   "id": "d7733cb8",
   "metadata": {},
   "outputs": [],
   "source": []
  }
 ],
 "metadata": {
  "kernelspec": {
   "display_name": "Python 3 (ipykernel)",
   "language": "python",
   "name": "python3"
  },
  "language_info": {
   "codemirror_mode": {
    "name": "ipython",
    "version": 3
   },
   "file_extension": ".py",
   "mimetype": "text/x-python",
   "name": "python",
   "nbconvert_exporter": "python",
   "pygments_lexer": "ipython3",
   "version": "3.9.7"
  }
 },
 "nbformat": 4,
 "nbformat_minor": 5
}
